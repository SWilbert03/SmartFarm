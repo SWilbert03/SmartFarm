{
 "cells": [
  {
   "cell_type": "code",
   "execution_count": 1,
   "metadata": {},
   "outputs": [],
   "source": [
    "import numpy as np\n",
    "import pandas as pd"
   ]
  },
  {
   "cell_type": "code",
   "execution_count": 64,
   "metadata": {},
   "outputs": [],
   "source": [
    "def generate_array(start, stop):\n",
    "    values = np.linspace(start, stop, 10)\n",
    "    variance = 0.1 * values\n",
    "    values += np.round(np.random.uniform(low=-variance, high=variance, size=10),2)\n",
    "    return values"
   ]
  },
  {
   "cell_type": "code",
   "execution_count": null,
   "metadata": {},
   "outputs": [],
   "source": [
    "array = [[-50,150,0,100,0,14,0,100],[0,100,0,5,0,100,0,100],[0,100,0,100,0,10,0,100],[0,100,0,10000,-40,80,0,100],[-40,100,0,100,0,5000,0,100],[0,50,0,200,0,300,0,100], [300,1100,0,10,0,2000,0,100],[0,100,1,5,0,10000,0,100],[0,500,0,100,45,50,0,100]\n",
    "         ]\n",
    "heading = [['Sensor Suhu', 'Sensor Kelembapan', 'Sensor pH', 'Pendingin'], ['Sensor Oksigen', 'Sensor Kadar Garam', 'Sensor Kadar Lemak', 'Umur Daging'], ['Sensor Kadar Sodium', 'Sensor Kadar Protein', 'Sensor Kadar Gula', 'Kualitas Daging'],\n",
    "           ['Sensor Kelembapan Tanahu', 'Sensor Intensi Cahaya', 'Sensor Suhu Udara', 'Ventilasi'], ['Sensor Suhu Tanah', 'Sensor Kelembapan Udara', 'Sensor Kadar Co2', 'Penyiram Air'], ['Kecepatan Angin', 'Curah Hujan', 'Kualitas Air', 'Penutup Otomatis'],  \n",
    "           ['Sensor Barometer', 'Sensor Ketebalan Awan', 'Sensor Radiasi Surya', 'Penghangat'], ['Sensor Cancel Order', 'Sensor Penilaian', 'Sensor Jumlah Pesanan', 'Tingkat Keuntungan'], ['Sensor Pendeteksi Gerakan', 'Sensor Meja Kosong', 'Sensor Kebisingan', 'Tingkat Keramaian']\n",
    "           ]\n",
    "csv_file = ['actuator1.csv','actuator2.csv','actuator3.csv',\n",
    "            'actuator4.csv','actuator5.csv','actuator6.csv',\n",
    "            'actuator7.csv','actuator8.csv','actuator9.csv']\n",
    "for i in range (9):\n",
    "    x = array[i]\n",
    "    data = pd.DataFrame({\n",
    "        heading[i][0]: generate_array(x[0],x[1]),\n",
    "        heading[i][1]: generate_array(x[2],x[3]),\n",
    "        heading[i][2]: generate_array(x[4],x[5]),\n",
    "        heading[i][3]: generate_array(x[6],x[7])\n",
    "        })\n",
    "    data1 = pd.DataFrame({\n",
    "        'Pendingin': generate_array(x[6],x[7]),\n",
    "        'Umur Daging': generate_array(x[6],x[7]),   \n",
    "        'Kualitas Daging': generate_array(x[6],x[7]),\n",
    "        'Subsystem1': generate_array(x[6],x[7])\n",
    "        })\n",
    "    data2 = pd.DataFrame({\n",
    "        'Ventilasi': generate_array(x[6],x[7]),\n",
    "        'Penyiram Air': generate_array(x[6],x[7]),   \n",
    "        'Penutup Otomatis': generate_array(x[6],x[7]),\n",
    "        'Subsystem2': generate_array(x[6],x[7])\n",
    "        })\n",
    "    data3 = pd.DataFrame({\n",
    "        'Penghangat': generate_array(x[6],x[7]),\n",
    "        'Tingkat Keuntungan': generate_array(x[6],x[7]),   \n",
    "        'Tingkat Keramaian': generate_array(x[6],x[7]),\n",
    "        'Subsystem3': generate_array(x[6],x[7])\n",
    "        })\n",
    "    data4 = pd.DataFrame({\n",
    "        'SubActuator 1': generate_array(x[6],x[7]),\n",
    "        'SubActuator 2': generate_array(x[6],x[7]),   \n",
    "        'SubActuator 3': generate_array(x[6],x[7]),\n",
    "        'Actuator System': generate_array(x[6],x[7])\n",
    "        })\n",
    "\n",
    "    data1.to_csv('subsystem1.csv', index=False)\n",
    "    data2.to_csv('subsystem2.csv', index=False)\n",
    "    data3.to_csv('subsystem3.csv', index=False)\n",
    "    data4.to_csv('actuator.csv', index=False)\n",
    "\n",
    "    data.to_csv(csv_file[i], index=False)\n",
    "    print(data)\n",
    "    print(\"======\")\n",
    "    print(data1)\n"
   ]
  }
 ],
 "metadata": {
  "kernelspec": {
   "display_name": "Python 3",
   "language": "python",
   "name": "python3"
  },
  "language_info": {
   "codemirror_mode": {
    "name": "ipython",
    "version": 3
   },
   "file_extension": ".py",
   "mimetype": "text/x-python",
   "name": "python",
   "nbconvert_exporter": "python",
   "pygments_lexer": "ipython3",
   "version": "3.10.11"
  },
  "orig_nbformat": 4
 },
 "nbformat": 4,
 "nbformat_minor": 2
}
